{
 "cells": [
  {
   "cell_type": "code",
   "execution_count": 1,
   "metadata": {},
   "outputs": [],
   "source": [
    "import numpy as np\n",
    "from openfermion.ops.operators import FermionOperator\n",
    "from openfermion.linalg import get_number_preserving_sparse_operator\n",
    "import scipy"
   ]
  },
  {
   "cell_type": "markdown",
   "metadata": {},
   "source": [
    "### Operator Creation from scratch\n",
    "\n",
    "Creates operators from first principles. Have been checked against the pyvqe output file"
   ]
  },
  {
   "cell_type": "code",
   "execution_count": 2,
   "metadata": {},
   "outputs": [
    {
     "name": "stdout",
     "output_type": "stream",
     "text": [
      "Operator 1\n",
      "-1.0 [4^ 6] +\n",
      "-1.0 [5^ 7] +\n",
      "1.0 [6^ 4] +\n",
      "1.0 [7^ 5]\n",
      "Operator 2\n",
      "-1.0 [2^ 6] +\n",
      "-1.0 [3^ 7] +\n",
      "1.0 [6^ 2] +\n",
      "1.0 [7^ 3]\n",
      "Operator 3\n",
      "-1.0 [2^ 4] +\n",
      "-1.0 [3^ 5] +\n",
      "1.0 [4^ 2] +\n",
      "1.0 [5^ 3]\n",
      "Operator 4\n",
      "-1.0 [0^ 6] +\n",
      "-1.0 [1^ 7] +\n",
      "1.0 [6^ 0] +\n",
      "1.0 [7^ 1]\n",
      "Operator 5\n",
      "-1.0 [0^ 4] +\n",
      "-1.0 [1^ 5] +\n",
      "1.0 [4^ 0] +\n",
      "1.0 [5^ 1]\n",
      "Operator 6\n",
      "-1.0 [0^ 2] +\n",
      "-1.0 [1^ 3] +\n",
      "1.0 [2^ 0] +\n",
      "1.0 [3^ 1]\n",
      "Operator 7\n",
      "1.0 [5^ 4^ 7 6] +\n",
      "-1.0 [7^ 6^ 5 4]\n",
      "Operator 8\n",
      "1.0 [3^ 2^ 7 6] +\n",
      "-1.0 [7^ 6^ 3 2]\n",
      "Operator 9\n",
      "1.0 [3^ 2^ 5 4] +\n",
      "-1.0 [5^ 4^ 3 2]\n",
      "Operator 10\n",
      "1.0 [1^ 0^ 7 6] +\n",
      "-1.0 [7^ 6^ 1 0]\n",
      "Operator 11\n",
      "1.0 [1^ 0^ 5 4] +\n",
      "-1.0 [5^ 4^ 1 0]\n",
      "Operator 12\n",
      "1.0 [1^ 0^ 3 2] +\n",
      "-1.0 [3^ 2^ 1 0]\n"
     ]
    }
   ],
   "source": [
    "def k(p, q):\n",
    "    pq = FermionOperator(\"[{}^ {}]\".format(q, p)) - FermionOperator(\"[{}^ {}]\".format(p, q))\n",
    "    return pq\n",
    "\n",
    "\n",
    "def d(a,b,c,d):\n",
    "    abcd = FermionOperator(\"[{}^ {}^ {} {}]\".format(a,b,c,d)) - FermionOperator(\"[{}^ {}^ {} {}]\".format(c,d,a,b))\n",
    "    return abcd\n",
    "\n",
    "\n",
    "# preparation for fermionoperator\n",
    "op = []\n",
    "\n",
    "for p in range(4,-1,-2):\n",
    "    for q in range(6,p,-2):\n",
    "        op.append(k(p,q) + k(p+1,q+1))\n",
    "\n",
    "for p in range(4,-1,-2):\n",
    "    for q in range(6,p,-2):\n",
    "        op.append(d(p+1,p,q+1,q))\n",
    "\n",
    "for i, op_i in enumerate(op):\n",
    "    print(\"Operator\", i+1)\n",
    "    print(op_i)\n",
    "\n",
    "# Output visually checked to be identical to pyvqe output log"
   ]
  },
  {
   "cell_type": "code",
   "execution_count": 3,
   "metadata": {},
   "outputs": [],
   "source": [
    "op_m = []\n",
    "# transfer operator to matrix\n",
    "for i in range(len(op)):\n",
    "    op_m.append(\n",
    "        get_number_preserving_sparse_operator(\n",
    "            op[i], 8, 4,\n",
    "            spin_preserving=True\n",
    "            ).toarray()\n",
    "        )"
   ]
  },
  {
   "cell_type": "markdown",
   "metadata": {},
   "source": [
    "### Operators from opmat file\n",
    "To compare against and verify the above"
   ]
  },
  {
   "cell_type": "code",
   "execution_count": 4,
   "metadata": {},
   "outputs": [],
   "source": [
    "input_directory = r'C:\\Users\\Alice Ling\\Desktop\\Summer intern\\Coding\\replicating energies/H4_linear'\n",
    "\n",
    "with open(input_directory + '/opmat', 'r') as f:\n",
    "    op2 = f.readlines()\n",
    "\n",
    "for i in range(len(op2)):\n",
    "    op2[i] = int(op2[i].replace('\\n', ''))\n",
    "\n",
    "op2 = np.array(op2).reshape([36, 36, 12], order='F')\n",
    "#what is op2 here? is it the operator matrix used in the file?\n",
    "\n",
    "op_m2 = []\n",
    "for i in range(12):\n",
    "    op_m2.append(op2[:,:,i])\n",
    "\n",
    "op_m2 = np.array(op_m2)\n"
   ]
  },
  {
   "cell_type": "markdown",
   "metadata": {},
   "source": [
    "op_m and op_m2 are now equal"
   ]
  },
  {
   "cell_type": "code",
   "execution_count": 5,
   "metadata": {},
   "outputs": [
    {
     "data": {
      "text/plain": [
       "0.0"
      ]
     },
     "execution_count": 5,
     "metadata": {},
     "output_type": "execute_result"
    }
   ],
   "source": [
    "np.sum(np.abs(op_m - op_m2))"
   ]
  },
  {
   "cell_type": "markdown",
   "metadata": {},
   "source": [
    "### Oporder, lowest, ref, ham"
   ]
  },
  {
   "cell_type": "code",
   "execution_count": 6,
   "metadata": {},
   "outputs": [
    {
     "name": "stdout",
     "output_type": "stream",
     "text": [
      "[ 8  7  6 12  9  1  7  2  5 11 10  2  5 11]\n",
      "[ 1.69820287 -2.35619449  1.64032912 -1.43526548 -3.14159265  2.35619449\n",
      "  0.20879342  2.71372338  0.92238495  2.80601422 -1.38509365 -1.18678053\n",
      "  0.8948483   2.91735289]\n"
     ]
    }
   ],
   "source": [
    "# DISCO Solution - hardcoded for speed\n",
    "\n",
    "operator_sequence = np.array([11, 5, 2, 10, 11, 5, 2, 7, 1, 9, 12, 6, 7, 8])\n",
    "coefficients = np.array([\n",
    "    2.917352889,\n",
    "    0.8948483047,\n",
    "    -1.186780531,\n",
    "    -1.385093655,\n",
    "    2.806014218,\n",
    "    0.9223849545,\n",
    "    2.713723378,\n",
    "    0.2087934190,\n",
    "    2.356194490,\n",
    "    -3.141592654,\n",
    "    -1.435265476,\n",
    "    1.640329124,\n",
    "    -2.356194490,\n",
    "    1.698202866\n",
    "])\n",
    "\n",
    "operator_sequence = operator_sequence[::-1]\n",
    "coefficients = coefficients[::-1]\n",
    "\n",
    "print(operator_sequence)\n",
    "print(coefficients)\n",
    "\n",
    "# Reference state\n",
    "reference_state = np.zeros(36)\n",
    "reference_state[0] = 1.0\n",
    "\n",
    "# Hamiltonian input\n",
    "ham = np.fromfile(input_directory + '/ham')\n",
    "ham = np.reshape(ham,[36,36])"
   ]
  },
  {
   "cell_type": "markdown",
   "metadata": {},
   "source": [
    "### Calculate exponential"
   ]
  },
  {
   "cell_type": "code",
   "execution_count": 16,
   "metadata": {},
   "outputs": [],
   "source": [
    "current_state = reference_state\n",
    "\n",
    "for ind, op_i in enumerate(operator_sequence):\n",
    "    op_i -= 1    \n",
    "    operator_matrix = coefficients[ind] * op_m[op_i-1]\n",
    "    operator_exponential = scipy.linalg.expm(operator_matrix)\n",
    "    current_state = np.matmul(operator_exponential, current_state)\n"
   ]
  },
  {
   "cell_type": "code",
   "execution_count": 17,
   "metadata": {},
   "outputs": [
    {
     "name": "stdout",
     "output_type": "stream",
     "text": [
      "-0.7356977332590235\n",
      "expected: -2.166387449\n"
     ]
    }
   ],
   "source": [
    "# Note: current_state all real so no need to conjutage\n",
    "energy = np.matmul(np.conj(current_state).T, np.matmul(ham, current_state))\n",
    "print(energy)\n",
    "print(\"expected: -2.166387449\")"
   ]
  },
  {
   "cell_type": "markdown",
   "metadata": {},
   "source": [
    "### Check ham decoded correctly"
   ]
  },
  {
   "cell_type": "code",
   "execution_count": 9,
   "metadata": {},
   "outputs": [
    {
     "data": {
      "text/plain": [
       "array([-2.16638745, -1.93375723, -1.71949414, -1.64965789, -1.62313803,\n",
       "       -1.43769128, -1.33227536, -1.28482257, -1.21465658, -1.14680435,\n",
       "       -1.12199766, -1.10598148, -0.98344034, -0.9439754 , -0.94325028,\n",
       "       -0.77953522, -0.71969236, -0.70064818, -0.63937919, -0.62464515,\n",
       "       -0.5515574 , -0.47546839, -0.41201573, -0.382025  , -0.25913615,\n",
       "       -0.2580852 , -0.21705711, -0.17842042, -0.08657631,  0.14460132,\n",
       "        0.20778048,  0.24956698,  0.24998945,  0.52084446,  0.65384342,\n",
       "        0.75096359])"
      ]
     },
     "execution_count": 9,
     "metadata": {},
     "output_type": "execute_result"
    }
   ],
   "source": [
    "np.linalg.eigvalsh(ham)"
   ]
  },
  {
   "cell_type": "code",
   "execution_count": 10,
   "metadata": {},
   "outputs": [],
   "source": [
    "# From ham file\n",
    "\n",
    "#  -2.1663874486347634\n",
    "#  -1.9337572335145781\n",
    "#  -1.7194941426311752\n",
    "# ...\n",
    "#   0.6538434212689721\n",
    "#   0.7509635882733064"
   ]
  },
  {
   "cell_type": "code",
   "execution_count": 11,
   "metadata": {},
   "outputs": [
    {
     "data": {
      "text/plain": [
       "<matplotlib.colorbar.Colorbar at 0x12e3f183a90>"
      ]
     },
     "execution_count": 11,
     "metadata": {},
     "output_type": "execute_result"
    },
    {
     "data": {
      "image/png": "[encoded data removed]",
      "text/plain": [
       "<Figure size 640x480 with 2 Axes>"
      ]
     },
     "metadata": {},
     "output_type": "display_data"
    }
   ],
   "source": [
    "import matplotlib.pyplot as plt\n",
    "plt.imshow(ham);\n",
    "plt.colorbar()"
   ]
  }
 ],
 "metadata": {
  "kernelspec": {
   "display_name": "pyvqe",
   "language": "python",
   "name": "python3"
  },
  "language_info": {
   "codemirror_mode": {
    "name": "ipython",
    "version": 3
   },
   "file_extension": ".py",
   "mimetype": "text/x-python",
   "name": "python",
   "nbconvert_exporter": "python",
   "pygments_lexer": "ipython3",
   "version": "3.10.8"
  },
  "orig_nbformat": 4
 },
 "nbformat": 4,
 "nbformat_minor": 2
}

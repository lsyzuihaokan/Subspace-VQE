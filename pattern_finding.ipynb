{
 "cells": [
  {
   "cell_type": "markdown",
   "metadata": {},
   "source": [
    "#### to find the similar patterns in operator sequence"
   ]
  },
  {
   "cell_type": "code",
   "execution_count": 1,
   "metadata": {},
   "outputs": [],
   "source": [
    "# operator generator\n",
    "import numpy as np\n",
    "from openfermion.ops.operators import FermionOperator\n",
    "from openfermion.linalg import get_number_preserving_sparse_operator\n",
    "from scipy.linalg import expm\n",
    "\n",
    "def k(p, q):\n",
    "    pq = FermionOperator(\"[{}^ {}]\".format(q, p)) - FermionOperator(\"[{}^ {}]\".format(p, q))\n",
    "    return pq\n",
    "\n",
    "\n",
    "def d(a,b,c,d):\n",
    "    abcd = FermionOperator(\"[{}^ {}^ {} {}]\".format(a,b,c,d)) - FermionOperator(\"[{}^ {}^ {} {}]\".format(c,d,a,b))\n",
    "    return abcd\n",
    "\n",
    "# preparation for fermionoperator\n",
    "op = []\n",
    "\n",
    "for p in range(4,-1,-2):\n",
    "    for q in range(6,p,-2):\n",
    "        op.append(k(p,q) + k(p+1,q+1))\n",
    "\n",
    "for p in range(4,-1,-2):\n",
    "    for q in range(6,p,-2):\n",
    "        op.append(d(p+1,p,q+1,q))\n",
    "\n",
    "op_m = []\n",
    "# transfer operator to matrix\n",
    "for i in range(len(op)):\n",
    "    op_m.append(\n",
    "        get_number_preserving_sparse_operator(\n",
    "            op[i], 8, 4,\n",
    "            spin_preserving=True\n",
    "            ).toarray()\n",
    "        )\n",
    "\n",
    "unitary_m = []\n",
    "for i in range(len(op_m)):\n",
    "    unitary_m.append(expm(op_m[i]))\n",
    "\n"
   ]
  },
  {
   "cell_type": "code",
   "execution_count": null,
   "metadata": {},
   "outputs": [],
   "source": []
  }
 ],
 "metadata": {
  "kernelspec": {
   "display_name": "Python 3",
   "language": "python",
   "name": "python3"
  },
  "language_info": {
   "codemirror_mode": {
    "name": "ipython",
    "version": 3
   },
   "file_extension": ".py",
   "mimetype": "text/x-python",
   "name": "python",
   "nbconvert_exporter": "python",
   "pygments_lexer": "ipython3",
   "version": "3.10.8"
  },
  "orig_nbformat": 4
 },
 "nbformat": 4,
 "nbformat_minor": 2
}
